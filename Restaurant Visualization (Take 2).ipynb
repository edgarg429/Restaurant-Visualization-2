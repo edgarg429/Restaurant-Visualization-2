{
 "cells": [
  {
   "cell_type": "code",
   "execution_count": 40,
   "metadata": {},
   "outputs": [],
   "source": [
    "import requests\n",
    "import json\n",
    "import pandas as pd\n",
    "import numpy as np\n",
    "import matplotlib.pyplot as plt\n",
    "import time"
   ]
  },
  {
   "cell_type": "code",
   "execution_count": 41,
   "metadata": {},
   "outputs": [],
   "source": [
    "def get_keys(path):\n",
    "    with open(path) as f:\n",
    "        return json.load(f)"
   ]
  },
  {
   "cell_type": "code",
   "execution_count": 25,
   "metadata": {},
   "outputs": [],
   "source": [
    "keys = get_keys(\"/Users/sofiaproano/.secret/yelp_api.json\")\n",
    "\n",
    "api_key = keys['api_key']"
   ]
  },
  {
   "cell_type": "code",
   "execution_count": 42,
   "metadata": {},
   "outputs": [
    {
     "name": "stdout",
     "output_type": "stream",
     "text": [
      "<Response [200]>\n"
     ]
    }
   ],
   "source": [
    "url = 'https://api.yelp.com/v3/businesses/search'\n",
    "headers = {'Authorization': 'Bearer {}'.format(api_key),}\n",
    "url_parameters = {'location': 'Jackson Heights',\n",
    "                'term' : \"restaurants, indian\",\n",
    "                'limit' : 50}\n",
    "response = requests.get(url, headers=headers, params=url_parameters)\n",
    "print(response)"
   ]
  },
  {
   "cell_type": "code",
   "execution_count": 43,
   "metadata": {},
   "outputs": [
    {
     "data": {
      "text/plain": [
       "261"
      ]
     },
     "execution_count": 43,
     "metadata": {},
     "output_type": "execute_result"
    }
   ],
   "source": [
    "response.json()['total']"
   ]
  },
  {
   "cell_type": "code",
   "execution_count": 44,
   "metadata": {},
   "outputs": [],
   "source": [
    "def yelp_call_into_df(url_parameter, api_key):\n",
    "    url = 'https://api.yelp.com/v3/businesses/search'\n",
    "    headers = {'Authorization': 'Bearer {}'.format(api_key),}\n",
    "    response = requests.get(url, headers=headers, params=url_parameter)\n",
    "    yelp_df = pd.DataFrame.from_dict(response.json()['businesses'])\n",
    "    return yelp_df"
   ]
  },
  {
   "cell_type": "code",
   "execution_count": 45,
   "metadata": {},
   "outputs": [
    {
     "name": "stdout",
     "output_type": "stream",
     "text": [
      "<class 'pandas.core.frame.DataFrame'>\n",
      "RangeIndex: 50 entries, 0 to 49\n",
      "Data columns (total 16 columns):\n",
      " #   Column         Non-Null Count  Dtype  \n",
      "---  ------         --------------  -----  \n",
      " 0   id             50 non-null     object \n",
      " 1   alias          50 non-null     object \n",
      " 2   name           50 non-null     object \n",
      " 3   image_url      50 non-null     object \n",
      " 4   is_closed      50 non-null     bool   \n",
      " 5   url            50 non-null     object \n",
      " 6   review_count   50 non-null     int64  \n",
      " 7   categories     50 non-null     object \n",
      " 8   rating         50 non-null     float64\n",
      " 9   coordinates    50 non-null     object \n",
      " 10  transactions   50 non-null     object \n",
      " 11  price          40 non-null     object \n",
      " 12  location       50 non-null     object \n",
      " 13  phone          50 non-null     object \n",
      " 14  display_phone  50 non-null     object \n",
      " 15  distance       50 non-null     float64\n",
      "dtypes: bool(1), float64(2), int64(1), object(12)\n",
      "memory usage: 6.0+ KB\n"
     ]
    }
   ],
   "source": [
    "df1 = yelp_call_into_df(url_parameters, api_key)\n",
    "df1.info()"
   ]
  },
  {
   "cell_type": "code",
   "execution_count": 46,
   "metadata": {},
   "outputs": [],
   "source": [
    "def yelp_pages_df(url_parameters, api_key):\n",
    "    df_list = []\n",
    "    current_results = 0\n",
    "    total_results = response.json()['total']\n",
    "    while current_results < total_results and current_results < 1000:\n",
    "        url_parameters['offset'] = current_results\n",
    "        df_list.append(yelp_call_into_df(url_parameters, api_key))\n",
    "        time.sleep(1)\n",
    "        current_results += 50\n",
    "    df=pd.concat(df_list, ignore_index=True)\n",
    "    return df"
   ]
  },
  {
   "cell_type": "code",
   "execution_count": 47,
   "metadata": {},
   "outputs": [
    {
     "name": "stdout",
     "output_type": "stream",
     "text": [
      "<class 'pandas.core.frame.DataFrame'>\n",
      "RangeIndex: 85 entries, 0 to 84\n",
      "Data columns (total 16 columns):\n",
      " #   Column         Non-Null Count  Dtype  \n",
      "---  ------         --------------  -----  \n",
      " 0   id             85 non-null     object \n",
      " 1   alias          85 non-null     object \n",
      " 2   name           85 non-null     object \n",
      " 3   image_url      85 non-null     object \n",
      " 4   is_closed      85 non-null     bool   \n",
      " 5   url            85 non-null     object \n",
      " 6   review_count   85 non-null     int64  \n",
      " 7   categories     85 non-null     object \n",
      " 8   rating         85 non-null     float64\n",
      " 9   coordinates    85 non-null     object \n",
      " 10  transactions   85 non-null     object \n",
      " 11  price          69 non-null     object \n",
      " 12  location       85 non-null     object \n",
      " 13  phone          85 non-null     object \n",
      " 14  display_phone  85 non-null     object \n",
      " 15  distance       85 non-null     float64\n",
      "dtypes: bool(1), float64(2), int64(1), object(12)\n",
      "memory usage: 10.2+ KB\n"
     ]
    }
   ],
   "source": [
    "df_2=yelp_pages_df(url_parameters, api_key)\n",
    "df_2.info()"
   ]
  },
  {
   "cell_type": "code",
   "execution_count": 48,
   "metadata": {},
   "outputs": [
    {
     "data": {
      "text/plain": [
       "261"
      ]
     },
     "execution_count": 48,
     "metadata": {},
     "output_type": "execute_result"
    }
   ],
   "source": [
    "response.json()['total']\n",
    "#df_2.tail()"
   ]
  },
  {
   "cell_type": "code",
   "execution_count": 97,
   "metadata": {},
   "outputs": [],
   "source": [
    "new_df = df_2[['name', 'review_count', 'rating', 'price']]\n",
    "df_under_85 = new_df[new_df['review_count']<= 85]\n",
    "df_over_85= new_df[(new_df['review_count']>85) & (new_df['review_count']< 500)]"
   ]
  },
  {
   "cell_type": "code",
   "execution_count": 98,
   "metadata": {},
   "outputs": [
    {
     "name": "stdout",
     "output_type": "stream",
     "text": [
      "<class 'pandas.core.frame.DataFrame'>\n",
      "Int64Index: 37 entries, 2 to 72\n",
      "Data columns (total 4 columns):\n",
      " #   Column        Non-Null Count  Dtype  \n",
      "---  ------        --------------  -----  \n",
      " 0   name          37 non-null     object \n",
      " 1   review_count  37 non-null     int64  \n",
      " 2   rating        37 non-null     float64\n",
      " 3   price         37 non-null     object \n",
      "dtypes: float64(1), int64(1), object(2)\n",
      "memory usage: 1.4+ KB\n"
     ]
    }
   ],
   "source": [
    "df_over_85.info()"
   ]
  },
  {
   "cell_type": "code",
   "execution_count": 99,
   "metadata": {},
   "outputs": [
    {
     "data": {
      "text/plain": [
       "rating\n",
       "2.0     3.000000\n",
       "2.5    17.428571\n",
       "3.0    42.750000\n",
       "3.5    41.285714\n",
       "4.0    41.000000\n",
       "4.5    29.285714\n",
       "5.0    21.000000\n",
       "Name: review_count, dtype: float64"
      ]
     },
     "metadata": {},
     "output_type": "display_data"
    },
    {
     "data": {
      "text/plain": [
       "rating\n",
       "3.0    212.400000\n",
       "3.5    278.000000\n",
       "4.0    201.894737\n",
       "4.5    233.444444\n",
       "Name: review_count, dtype: float64"
      ]
     },
     "execution_count": 99,
     "metadata": {},
     "output_type": "execute_result"
    }
   ],
   "source": [
    "display(df_under_85.groupby('rating').mean()['review_count'])\n",
    "df_over_85.groupby('rating').mean()['review_count']"
   ]
  },
  {
   "cell_type": "code",
   "execution_count": 104,
   "metadata": {},
   "outputs": [
    {
     "data": {
      "image/png": "[encoded data removed]",
      "text/plain": [
       "<Figure size 432x288 with 1 Axes>"
      ]
     },
     "metadata": {
      "needs_background": "light"
     },
     "output_type": "display_data"
    },
    {
     "data": {
      "image/png": "[encoded data removed]",
      "text/plain": [
       "<Figure size 432x288 with 1 Axes>"
      ]
     },
     "metadata": {
      "needs_background": "light"
     },
     "output_type": "display_data"
    }
   ],
   "source": [
    "fig, ax = plt.subplots()\n",
    "height =  df_under_85.groupby('rating').mean()['review_count']\n",
    "x = height.index\n",
    "ax.bar(x,height, width=0.4)\n",
    "ax.set_title('Average Review Under 85 Count By Star Rating')\n",
    "ax.set_ylabel('Average Review Count')\n",
    "ax.set_xlabel('Star Rating');\n",
    "\n",
    "fig, ax = plt.subplots()\n",
    "height2 = df_over_85.groupby('rating').mean()['review_count']\n",
    "x2 = height2.index\n",
    "ax.bar(x2,height2, width=0.4)\n",
    "ax.set_title('Average Review Over 85 Count By Star Rating')\n",
    "ax.set_ylabel('Average Review Count')\n",
    "ax.set_xlabel('Star Rating');"
   ]
  },
  {
   "cell_type": "code",
   "execution_count": 101,
   "metadata": {},
   "outputs": [
    {
     "data": {
      "image/png": "[encoded data removed]",
      "text/plain": [
       "<Figure size 432x288 with 1 Axes>"
      ]
     },
     "metadata": {
      "needs_background": "light"
     },
     "output_type": "display_data"
    },
    {
     "data": {
      "image/png": "[encoded data removed]",
      "text/plain": [
       "<Figure size 432x288 with 1 Axes>"
      ]
     },
     "metadata": {
      "needs_background": "light"
     },
     "output_type": "display_data"
    }
   ],
   "source": [
    "fig5, ax5 = plt.subplots()\n",
    "ax5.boxplot(new_df['review_count'], showfliers=True);\n",
    "fig6, ax6 = plt.subplots()\n",
    "ax6.boxplot(new_df['rating']);"
   ]
  },
  {
   "cell_type": "code",
   "execution_count": null,
   "metadata": {},
   "outputs": [],
   "source": []
  }
 ],
 "metadata": {
  "kernelspec": {
   "display_name": "Python 3",
   "language": "python",
   "name": "python3"
  },
  "language_info": {
   "codemirror_mode": {
    "name": "ipython",
    "version": 3
   },
   "file_extension": ".py",
   "mimetype": "text/x-python",
   "name": "python",
   "nbconvert_exporter": "python",
   "pygments_lexer": "ipython3",
   "version": "3.8.5"
  }
 },
 "nbformat": 4,
 "nbformat_minor": 4
}
